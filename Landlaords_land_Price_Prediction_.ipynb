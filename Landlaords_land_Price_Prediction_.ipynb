{
  "cells": [
    {
      "cell_type": "code",
      "execution_count": null,
      "metadata": {
        "id": "XcN61ulGmJI7"
      },
      "outputs": [],
      "source": [
        "from google.colab import drive\n",
        "drive.mount('/content/drive')"
      ]
    },
    {
      "cell_type": "code",
      "execution_count": null,
      "metadata": {
        "id": "59PrIES6mv7U"
      },
      "outputs": [],
      "source": [
        "!pip install keras-tuner\n"
      ]
    },
    {
      "cell_type": "code",
      "execution_count": null,
      "metadata": {
        "colab": {
          "base_uri": "https://localhost:8080/"
        },
        "id": "BET-8MV1mnvb",
        "outputId": "4b92ac5a-59a4-40a5-d949-a47c587ef756"
      },
      "outputs": [
        {
          "name": "stderr",
          "output_type": "stream",
          "text": [
            "<ipython-input-3-ee6dba7d7ec6>:9: DeprecationWarning: `import kerastuner` is deprecated, please use `import keras_tuner`.\n",
            "  from kerastuner import HyperParameters  # Corrected import statement\n"
          ]
        }
      ],
      "source": [
        "import numpy as np\n",
        "import pandas as pd\n",
        "import matplotlib.pyplot as plt\n",
        "from tensorflow.keras.models import Sequential\n",
        "from tensorflow.keras.layers import Dense, Dropout, LSTM\n",
        "from sklearn.preprocessing import MinMaxScaler\n",
        "import math\n",
        "from sklearn.metrics import mean_squared_error\n",
        "from kerastuner import HyperParameters  # Corrected import statement\n",
        "from kerastuner.tuners import RandomSearch  # Corrected import statement\n",
        "import tensorflow as tf\n",
        "from tensorflow import keras\n",
        "from tensorflow.keras import layers\n"
      ]
    },
    {
      "cell_type": "code",
      "execution_count": null,
      "metadata": {
        "id": "taFUZgLOp784"
      },
      "outputs": [],
      "source": [
        "df_test = pd.read_csv('../content/drive/MyDrive/Land prices.csv')\n",
        "df_train = pd.read_csv('../content/drive/MyDrive/Land prices.csv')\n",
        "df = pd.concat([df_test,df_train])"
      ]
    },
    {
      "cell_type": "code",
      "execution_count": null,
      "metadata": {
        "colab": {
          "base_uri": "https://localhost:8080/",
          "height": 206
        },
        "id": "Uum9dA4EqI6V",
        "outputId": "f12ee2b0-289d-4e3d-dd00-b595f004165e"
      },
      "outputs": [
        {
          "data": {
            "application/vnd.google.colaboratory.intrinsic+json": {
              "summary": "{\n  \"name\": \"df\",\n  \"rows\": 852,\n  \"fields\": [\n    {\n      \"column\": \"No\",\n      \"properties\": {\n        \"dtype\": \"number\",\n        \"std\": 123,\n        \"min\": 1,\n        \"max\": 426,\n        \"num_unique_values\": 426,\n        \"samples\": [\n          419,\n          76,\n          177\n        ],\n        \"semantic_type\": \"\",\n        \"description\": \"\"\n      }\n    },\n    {\n      \"column\": \"date\",\n      \"properties\": {\n        \"dtype\": \"string\",\n        \"num_unique_values\": 426,\n        \"samples\": [\n          \"2023.08.23\",\n          \"2022.08.15\",\n          \"2022.11.24\"\n        ],\n        \"semantic_type\": \"\",\n        \"description\": \"\"\n      }\n    },\n    {\n      \"column\": \" house age\",\n      \"properties\": {\n        \"dtype\": \"number\",\n        \"std\": 11.285691318254242,\n        \"min\": 0.0,\n        \"max\": 43.8,\n        \"num_unique_values\": 239,\n        \"samples\": [\n          29.3,\n          20.3,\n          8.1\n        ],\n        \"semantic_type\": \"\",\n        \"description\": \"\"\n      }\n    },\n    {\n      \"column\": \"Sq feets\",\n      \"properties\": {\n        \"dtype\": \"number\",\n        \"std\": 206,\n        \"min\": 3214,\n        \"max\": 5420,\n        \"num_unique_values\": 424,\n        \"samples\": [\n          5142,\n          5277,\n          5172\n        ],\n        \"semantic_type\": \"\",\n        \"description\": \"\"\n      }\n    },\n    {\n      \"column\": \"distand to public domin\",\n      \"properties\": {\n        \"dtype\": \"number\",\n        \"std\": 1254.1217356853604,\n        \"min\": 23.38284,\n        \"max\": 6488.021,\n        \"num_unique_values\": 271,\n        \"samples\": [\n          488.5727,\n          1264.73,\n          167.5989\n        ],\n        \"semantic_type\": \"\",\n        \"description\": \"\"\n      }\n    },\n    {\n      \"column\": \"number of registrations done\",\n      \"properties\": {\n        \"dtype\": \"number\",\n        \"std\": 3,\n        \"min\": 0,\n        \"max\": 21,\n        \"num_unique_values\": 22,\n        \"samples\": [\n          10,\n          13,\n          2\n        ],\n        \"semantic_type\": \"\",\n        \"description\": \"\"\n      }\n    },\n    {\n      \"column\": \"latitude\",\n      \"properties\": {\n        \"dtype\": \"number\",\n        \"std\": 1.223147049325763,\n        \"min\": 24.93207,\n        \"max\": 36.97433,\n        \"num_unique_values\": 246,\n        \"samples\": [\n          24.96386,\n          24.98042,\n          24.97229\n        ],\n        \"semantic_type\": \"\",\n        \"description\": \"\"\n      }\n    },\n    {\n      \"column\": \"longitude\",\n      \"properties\": {\n        \"dtype\": \"number\",\n        \"std\": 1.2238264878771414,\n        \"min\": 121.47353,\n        \"max\": 133.5431,\n        \"num_unique_values\": 244,\n        \"samples\": [\n          121.53913,\n          121.54228,\n          121.53765\n        ],\n        \"semantic_type\": \"\",\n        \"description\": \"\"\n      }\n    },\n    {\n      \"column\": \"Y house price of unit area\",\n      \"properties\": {\n        \"dtype\": \"number\",\n        \"std\": 14.45405304419686,\n        \"min\": 7.6,\n        \"max\": 117.5,\n        \"num_unique_values\": 283,\n        \"samples\": [\n          22.1,\n          53.7,\n          73.6\n        ],\n        \"semantic_type\": \"\",\n        \"description\": \"\"\n      }\n    },\n    {\n      \"column\": \"totsl cost\",\n      \"properties\": {\n        \"dtype\": \"number\",\n        \"std\": 23169442573127.82,\n        \"min\": 0.0,\n        \"max\": 127000000000000.0,\n        \"num_unique_values\": 291,\n        \"samples\": [\n          39900000000000.0,\n          25100000000000.0,\n          17400000000000.0\n        ],\n        \"semantic_type\": \"\",\n        \"description\": \"\"\n      }\n    }\n  ]\n}",
              "type": "dataframe",
              "variable_name": "df"
            },
            "text/html": [
              "\n",
              "  <div id=\"df-18c7ac7c-de0e-4b1b-a78c-d0715f18aec6\" class=\"colab-df-container\">\n",
              "    <div>\n",
              "<style scoped>\n",
              "    .dataframe tbody tr th:only-of-type {\n",
              "        vertical-align: middle;\n",
              "    }\n",
              "\n",
              "    .dataframe tbody tr th {\n",
              "        vertical-align: top;\n",
              "    }\n",
              "\n",
              "    .dataframe thead th {\n",
              "        text-align: right;\n",
              "    }\n",
              "</style>\n",
              "<table border=\"1\" class=\"dataframe\">\n",
              "  <thead>\n",
              "    <tr style=\"text-align: right;\">\n",
              "      <th></th>\n",
              "      <th>No</th>\n",
              "      <th>date</th>\n",
              "      <th>house age</th>\n",
              "      <th>Sq feets</th>\n",
              "      <th>distand to public domin</th>\n",
              "      <th>number of registrations done</th>\n",
              "      <th>latitude</th>\n",
              "      <th>longitude</th>\n",
              "      <th>Y house price of unit area</th>\n",
              "      <th>totsl cost</th>\n",
              "    </tr>\n",
              "  </thead>\n",
              "  <tbody>\n",
              "    <tr>\n",
              "      <th>0</th>\n",
              "      <td>1</td>\n",
              "      <td>2022.06.01</td>\n",
              "      <td>32.0</td>\n",
              "      <td>3214</td>\n",
              "      <td>84.87882</td>\n",
              "      <td>10</td>\n",
              "      <td>24.98298</td>\n",
              "      <td>121.54024</td>\n",
              "      <td>33.0</td>\n",
              "      <td>8.750000e+12</td>\n",
              "    </tr>\n",
              "    <tr>\n",
              "      <th>1</th>\n",
              "      <td>2</td>\n",
              "      <td>2022.06.02</td>\n",
              "      <td>19.5</td>\n",
              "      <td>3214</td>\n",
              "      <td>306.59470</td>\n",
              "      <td>9</td>\n",
              "      <td>24.98034</td>\n",
              "      <td>121.53951</td>\n",
              "      <td>42.2</td>\n",
              "      <td>2.220000e+13</td>\n",
              "    </tr>\n",
              "    <tr>\n",
              "      <th>2</th>\n",
              "      <td>3</td>\n",
              "      <td>2022.06.03</td>\n",
              "      <td>13.3</td>\n",
              "      <td>3214</td>\n",
              "      <td>561.98450</td>\n",
              "      <td>5</td>\n",
              "      <td>24.98746</td>\n",
              "      <td>121.54391</td>\n",
              "      <td>47.3</td>\n",
              "      <td>1.730000e+13</td>\n",
              "    </tr>\n",
              "    <tr>\n",
              "      <th>3</th>\n",
              "      <td>4</td>\n",
              "      <td>2022.06.04</td>\n",
              "      <td>13.3</td>\n",
              "      <td>4957</td>\n",
              "      <td>561.98450</td>\n",
              "      <td>5</td>\n",
              "      <td>24.98746</td>\n",
              "      <td>121.54391</td>\n",
              "      <td>54.8</td>\n",
              "      <td>3.080000e+13</td>\n",
              "    </tr>\n",
              "    <tr>\n",
              "      <th>4</th>\n",
              "      <td>5</td>\n",
              "      <td>2022.06.05</td>\n",
              "      <td>5.0</td>\n",
              "      <td>4999</td>\n",
              "      <td>390.56840</td>\n",
              "      <td>5</td>\n",
              "      <td>24.97937</td>\n",
              "      <td>121.54245</td>\n",
              "      <td>43.1</td>\n",
              "      <td>6.390000e+12</td>\n",
              "    </tr>\n",
              "  </tbody>\n",
              "</table>\n",
              "</div>\n",
              "    <div class=\"colab-df-buttons\">\n",
              "\n",
              "  <div class=\"colab-df-container\">\n",
              "    <button class=\"colab-df-convert\" onclick=\"convertToInteractive('df-18c7ac7c-de0e-4b1b-a78c-d0715f18aec6')\"\n",
              "            title=\"Convert this dataframe to an interactive table.\"\n",
              "            style=\"display:none;\">\n",
              "\n",
              "  <svg xmlns=\"http://www.w3.org/2000/svg\" height=\"24px\" viewBox=\"0 -960 960 960\">\n",
              "    <path d=\"M120-120v-720h720v720H120Zm60-500h600v-160H180v160Zm220 220h160v-160H400v160Zm0 220h160v-160H400v160ZM180-400h160v-160H180v160Zm440 0h160v-160H620v160ZM180-180h160v-160H180v160Zm440 0h160v-160H620v160Z\"/>\n",
              "  </svg>\n",
              "    </button>\n",
              "\n",
              "  <style>\n",
              "    .colab-df-container {\n",
              "      display:flex;\n",
              "      gap: 12px;\n",
              "    }\n",
              "\n",
              "    .colab-df-convert {\n",
              "      background-color: #E8F0FE;\n",
              "      border: none;\n",
              "      border-radius: 50%;\n",
              "      cursor: pointer;\n",
              "      display: none;\n",
              "      fill: #1967D2;\n",
              "      height: 32px;\n",
              "      padding: 0 0 0 0;\n",
              "      width: 32px;\n",
              "    }\n",
              "\n",
              "    .colab-df-convert:hover {\n",
              "      background-color: #E2EBFA;\n",
              "      box-shadow: 0px 1px 2px rgba(60, 64, 67, 0.3), 0px 1px 3px 1px rgba(60, 64, 67, 0.15);\n",
              "      fill: #174EA6;\n",
              "    }\n",
              "\n",
              "    .colab-df-buttons div {\n",
              "      margin-bottom: 4px;\n",
              "    }\n",
              "\n",
              "    [theme=dark] .colab-df-convert {\n",
              "      background-color: #3B4455;\n",
              "      fill: #D2E3FC;\n",
              "    }\n",
              "\n",
              "    [theme=dark] .colab-df-convert:hover {\n",
              "      background-color: #434B5C;\n",
              "      box-shadow: 0px 1px 3px 1px rgba(0, 0, 0, 0.15);\n",
              "      filter: drop-shadow(0px 1px 2px rgba(0, 0, 0, 0.3));\n",
              "      fill: #FFFFFF;\n",
              "    }\n",
              "  </style>\n",
              "\n",
              "    <script>\n",
              "      const buttonEl =\n",
              "        document.querySelector('#df-18c7ac7c-de0e-4b1b-a78c-d0715f18aec6 button.colab-df-convert');\n",
              "      buttonEl.style.display =\n",
              "        google.colab.kernel.accessAllowed ? 'block' : 'none';\n",
              "\n",
              "      async function convertToInteractive(key) {\n",
              "        const element = document.querySelector('#df-18c7ac7c-de0e-4b1b-a78c-d0715f18aec6');\n",
              "        const dataTable =\n",
              "          await google.colab.kernel.invokeFunction('convertToInteractive',\n",
              "                                                    [key], {});\n",
              "        if (!dataTable) return;\n",
              "\n",
              "        const docLinkHtml = 'Like what you see? Visit the ' +\n",
              "          '<a target=\"_blank\" href=https://colab.research.google.com/notebooks/data_table.ipynb>data table notebook</a>'\n",
              "          + ' to learn more about interactive tables.';\n",
              "        element.innerHTML = '';\n",
              "        dataTable['output_type'] = 'display_data';\n",
              "        await google.colab.output.renderOutput(dataTable, element);\n",
              "        const docLink = document.createElement('div');\n",
              "        docLink.innerHTML = docLinkHtml;\n",
              "        element.appendChild(docLink);\n",
              "      }\n",
              "    </script>\n",
              "  </div>\n",
              "\n",
              "\n",
              "<div id=\"df-bbbb8db8-f1be-4d2b-b78d-d1f612e934b8\">\n",
              "  <button class=\"colab-df-quickchart\" onclick=\"quickchart('df-bbbb8db8-f1be-4d2b-b78d-d1f612e934b8')\"\n",
              "            title=\"Suggest charts\"\n",
              "            style=\"display:none;\">\n",
              "\n",
              "<svg xmlns=\"http://www.w3.org/2000/svg\" height=\"24px\"viewBox=\"0 0 24 24\"\n",
              "     width=\"24px\">\n",
              "    <g>\n",
              "        <path d=\"M19 3H5c-1.1 0-2 .9-2 2v14c0 1.1.9 2 2 2h14c1.1 0 2-.9 2-2V5c0-1.1-.9-2-2-2zM9 17H7v-7h2v7zm4 0h-2V7h2v10zm4 0h-2v-4h2v4z\"/>\n",
              "    </g>\n",
              "</svg>\n",
              "  </button>\n",
              "\n",
              "<style>\n",
              "  .colab-df-quickchart {\n",
              "      --bg-color: #E8F0FE;\n",
              "      --fill-color: #1967D2;\n",
              "      --hover-bg-color: #E2EBFA;\n",
              "      --hover-fill-color: #174EA6;\n",
              "      --disabled-fill-color: #AAA;\n",
              "      --disabled-bg-color: #DDD;\n",
              "  }\n",
              "\n",
              "  [theme=dark] .colab-df-quickchart {\n",
              "      --bg-color: #3B4455;\n",
              "      --fill-color: #D2E3FC;\n",
              "      --hover-bg-color: #434B5C;\n",
              "      --hover-fill-color: #FFFFFF;\n",
              "      --disabled-bg-color: #3B4455;\n",
              "      --disabled-fill-color: #666;\n",
              "  }\n",
              "\n",
              "  .colab-df-quickchart {\n",
              "    background-color: var(--bg-color);\n",
              "    border: none;\n",
              "    border-radius: 50%;\n",
              "    cursor: pointer;\n",
              "    display: none;\n",
              "    fill: var(--fill-color);\n",
              "    height: 32px;\n",
              "    padding: 0;\n",
              "    width: 32px;\n",
              "  }\n",
              "\n",
              "  .colab-df-quickchart:hover {\n",
              "    background-color: var(--hover-bg-color);\n",
              "    box-shadow: 0 1px 2px rgba(60, 64, 67, 0.3), 0 1px 3px 1px rgba(60, 64, 67, 0.15);\n",
              "    fill: var(--button-hover-fill-color);\n",
              "  }\n",
              "\n",
              "  .colab-df-quickchart-complete:disabled,\n",
              "  .colab-df-quickchart-complete:disabled:hover {\n",
              "    background-color: var(--disabled-bg-color);\n",
              "    fill: var(--disabled-fill-color);\n",
              "    box-shadow: none;\n",
              "  }\n",
              "\n",
              "  .colab-df-spinner {\n",
              "    border: 2px solid var(--fill-color);\n",
              "    border-color: transparent;\n",
              "    border-bottom-color: var(--fill-color);\n",
              "    animation:\n",
              "      spin 1s steps(1) infinite;\n",
              "  }\n",
              "\n",
              "  @keyframes spin {\n",
              "    0% {\n",
              "      border-color: transparent;\n",
              "      border-bottom-color: var(--fill-color);\n",
              "      border-left-color: var(--fill-color);\n",
              "    }\n",
              "    20% {\n",
              "      border-color: transparent;\n",
              "      border-left-color: var(--fill-color);\n",
              "      border-top-color: var(--fill-color);\n",
              "    }\n",
              "    30% {\n",
              "      border-color: transparent;\n",
              "      border-left-color: var(--fill-color);\n",
              "      border-top-color: var(--fill-color);\n",
              "      border-right-color: var(--fill-color);\n",
              "    }\n",
              "    40% {\n",
              "      border-color: transparent;\n",
              "      border-right-color: var(--fill-color);\n",
              "      border-top-color: var(--fill-color);\n",
              "    }\n",
              "    60% {\n",
              "      border-color: transparent;\n",
              "      border-right-color: var(--fill-color);\n",
              "    }\n",
              "    80% {\n",
              "      border-color: transparent;\n",
              "      border-right-color: var(--fill-color);\n",
              "      border-bottom-color: var(--fill-color);\n",
              "    }\n",
              "    90% {\n",
              "      border-color: transparent;\n",
              "      border-bottom-color: var(--fill-color);\n",
              "    }\n",
              "  }\n",
              "</style>\n",
              "\n",
              "  <script>\n",
              "    async function quickchart(key) {\n",
              "      const quickchartButtonEl =\n",
              "        document.querySelector('#' + key + ' button');\n",
              "      quickchartButtonEl.disabled = true;  // To prevent multiple clicks.\n",
              "      quickchartButtonEl.classList.add('colab-df-spinner');\n",
              "      try {\n",
              "        const charts = await google.colab.kernel.invokeFunction(\n",
              "            'suggestCharts', [key], {});\n",
              "      } catch (error) {\n",
              "        console.error('Error during call to suggestCharts:', error);\n",
              "      }\n",
              "      quickchartButtonEl.classList.remove('colab-df-spinner');\n",
              "      quickchartButtonEl.classList.add('colab-df-quickchart-complete');\n",
              "    }\n",
              "    (() => {\n",
              "      let quickchartButtonEl =\n",
              "        document.querySelector('#df-bbbb8db8-f1be-4d2b-b78d-d1f612e934b8 button');\n",
              "      quickchartButtonEl.style.display =\n",
              "        google.colab.kernel.accessAllowed ? 'block' : 'none';\n",
              "    })();\n",
              "  </script>\n",
              "</div>\n",
              "\n",
              "    </div>\n",
              "  </div>\n"
            ],
            "text/plain": [
              "   No        date   house age  Sq feets  distand to public domin  \\\n",
              "0   1  2022.06.01        32.0      3214                 84.87882   \n",
              "1   2  2022.06.02        19.5      3214                306.59470   \n",
              "2   3  2022.06.03        13.3      3214                561.98450   \n",
              "3   4  2022.06.04        13.3      4957                561.98450   \n",
              "4   5  2022.06.05         5.0      4999                390.56840   \n",
              "\n",
              "   number of registrations done  latitude  longitude  \\\n",
              "0                            10  24.98298  121.54024   \n",
              "1                             9  24.98034  121.53951   \n",
              "2                             5  24.98746  121.54391   \n",
              "3                             5  24.98746  121.54391   \n",
              "4                             5  24.97937  121.54245   \n",
              "\n",
              "   Y house price of unit area    totsl cost  \n",
              "0                        33.0  8.750000e+12  \n",
              "1                        42.2  2.220000e+13  \n",
              "2                        47.3  1.730000e+13  \n",
              "3                        54.8  3.080000e+13  \n",
              "4                        43.1  6.390000e+12  "
            ]
          },
          "execution_count": 5,
          "metadata": {},
          "output_type": "execute_result"
        }
      ],
      "source": [
        "df.head()"
      ]
    },
    {
      "cell_type": "code",
      "execution_count": null,
      "metadata": {
        "colab": {
          "base_uri": "https://localhost:8080/"
        },
        "id": "FHeQhagzqM-A",
        "outputId": "8e5e7433-f430-4a8a-ebd1-9305cc012d52"
      },
      "outputs": [
        {
          "name": "stdout",
          "output_type": "stream",
          "text": [
            "<class 'pandas.core.frame.DataFrame'>\n",
            "Index: 852 entries, 0 to 425\n",
            "Data columns (total 10 columns):\n",
            " #   Column                        Non-Null Count  Dtype  \n",
            "---  ------                        --------------  -----  \n",
            " 0   No                            852 non-null    int64  \n",
            " 1   date                          852 non-null    object \n",
            " 2    house age                    852 non-null    float64\n",
            " 3   Sq feets                      852 non-null    int64  \n",
            " 4   distand to public domin       852 non-null    float64\n",
            " 5   number of registrations done  852 non-null    int64  \n",
            " 6   latitude                      852 non-null    float64\n",
            " 7   longitude                     852 non-null    float64\n",
            " 8   Y house price of unit area    852 non-null    float64\n",
            " 9   totsl cost                    852 non-null    float64\n",
            "dtypes: float64(6), int64(3), object(1)\n",
            "memory usage: 73.2+ KB\n"
          ]
        }
      ],
      "source": [
        "df.info()"
      ]
    },
    {
      "cell_type": "code",
      "execution_count": null,
      "metadata": {
        "colab": {
          "base_uri": "https://localhost:8080/",
          "height": 300
        },
        "id": "Ze3QdkN8q9NI",
        "outputId": "734bb746-7a2e-45f3-dfdb-89ed5aefa172"
      },
      "outputs": [
        {
          "data": {
            "application/vnd.google.colaboratory.intrinsic+json": {
              "summary": "{\n  \"name\": \"df\",\n  \"rows\": 8,\n  \"fields\": [\n    {\n      \"column\": \"No\",\n      \"properties\": {\n        \"dtype\": \"number\",\n        \"std\": 264.930286451309,\n        \"min\": 1.0,\n        \"max\": 852.0,\n        \"num_unique_values\": 7,\n        \"samples\": [\n          852.0,\n          213.5,\n          320.0\n        ],\n        \"semantic_type\": \"\",\n        \"description\": \"\"\n      }\n    },\n    {\n      \"column\": \" house age\",\n      \"properties\": {\n        \"dtype\": \"number\",\n        \"std\": 295.1812423558525,\n        \"min\": 0.0,\n        \"max\": 852.0,\n        \"num_unique_values\": 8,\n        \"samples\": [\n          17.673708920187792,\n          16.05,\n          852.0\n        ],\n        \"semantic_type\": \"\",\n        \"description\": \"\"\n      }\n    },\n    {\n      \"column\": \"Sq feets\",\n      \"properties\": {\n        \"dtype\": \"number\",\n        \"std\": 2154.0724874861626,\n        \"min\": 206.70902917275117,\n        \"max\": 5420.0,\n        \"num_unique_values\": 8,\n        \"samples\": [\n          5194.854460093897,\n          5207.5,\n          852.0\n        ],\n        \"semantic_type\": \"\",\n        \"description\": \"\"\n      }\n    },\n    {\n      \"column\": \"distand to public domin\",\n      \"properties\": {\n        \"dtype\": \"number\",\n        \"std\": 2078.7408005927396,\n        \"min\": 23.38284,\n        \"max\": 6488.021,\n        \"num_unique_values\": 8,\n        \"samples\": [\n          1056.0848542957747,\n          491.28795,\n          852.0\n        ],\n        \"semantic_type\": \"\",\n        \"description\": \"\"\n      }\n    },\n    {\n      \"column\": \"number of registrations done\",\n      \"properties\": {\n        \"dtype\": \"number\",\n        \"std\": 299.2060235686514,\n        \"min\": 0.0,\n        \"max\": 852.0,\n        \"num_unique_values\": 8,\n        \"samples\": [\n          4.427230046948357,\n          4.5,\n          852.0\n        ],\n        \"semantic_type\": \"\",\n        \"description\": \"\"\n      }\n    },\n    {\n      \"column\": \"latitude\",\n      \"properties\": {\n        \"dtype\": \"number\",\n        \"std\": 293.15275027492913,\n        \"min\": 1.223147049325763,\n        \"max\": 852.0,\n        \"num_unique_values\": 8,\n        \"samples\": [\n          25.152277957746477,\n          24.971989999999998,\n          852.0\n        ],\n        \"semantic_type\": \"\",\n        \"description\": \"\"\n      }\n    },\n    {\n      \"column\": \"longitude\",\n      \"properties\": {\n        \"dtype\": \"number\",\n        \"std\": 267.20580197895373,\n        \"min\": 1.2238264878771414,\n        \"max\": 852.0,\n        \"num_unique_values\": 8,\n        \"samples\": [\n          121.71673401408452,\n          121.53913,\n          852.0\n        ],\n        \"semantic_type\": \"\",\n        \"description\": \"\"\n      }\n    },\n    {\n      \"column\": \"Y house price of unit area\",\n      \"properties\": {\n        \"dtype\": \"number\",\n        \"std\": 288.3856173074586,\n        \"min\": 7.6,\n        \"max\": 852.0,\n        \"num_unique_values\": 8,\n        \"samples\": [\n          38.88192488262911,\n          39.2,\n          852.0\n        ],\n        \"semantic_type\": \"\",\n        \"description\": \"\"\n      }\n    },\n    {\n      \"column\": \"totsl cost\",\n      \"properties\": {\n        \"dtype\": \"number\",\n        \"std\": 41730508457523.48,\n        \"min\": 0.0,\n        \"max\": 127000000000000.0,\n        \"num_unique_values\": 8,\n        \"samples\": [\n          21992690140845.07,\n          16450000000000.0,\n          852.0\n        ],\n        \"semantic_type\": \"\",\n        \"description\": \"\"\n      }\n    }\n  ]\n}",
              "type": "dataframe"
            },
            "text/html": [
              "\n",
              "  <div id=\"df-f4ed143a-2384-4673-978d-1e6f1c40d871\" class=\"colab-df-container\">\n",
              "    <div>\n",
              "<style scoped>\n",
              "    .dataframe tbody tr th:only-of-type {\n",
              "        vertical-align: middle;\n",
              "    }\n",
              "\n",
              "    .dataframe tbody tr th {\n",
              "        vertical-align: top;\n",
              "    }\n",
              "\n",
              "    .dataframe thead th {\n",
              "        text-align: right;\n",
              "    }\n",
              "</style>\n",
              "<table border=\"1\" class=\"dataframe\">\n",
              "  <thead>\n",
              "    <tr style=\"text-align: right;\">\n",
              "      <th></th>\n",
              "      <th>No</th>\n",
              "      <th>house age</th>\n",
              "      <th>Sq feets</th>\n",
              "      <th>distand to public domin</th>\n",
              "      <th>number of registrations done</th>\n",
              "      <th>latitude</th>\n",
              "      <th>longitude</th>\n",
              "      <th>Y house price of unit area</th>\n",
              "      <th>totsl cost</th>\n",
              "    </tr>\n",
              "  </thead>\n",
              "  <tbody>\n",
              "    <tr>\n",
              "      <th>count</th>\n",
              "      <td>852.000000</td>\n",
              "      <td>852.000000</td>\n",
              "      <td>852.000000</td>\n",
              "      <td>852.000000</td>\n",
              "      <td>852.000000</td>\n",
              "      <td>852.000000</td>\n",
              "      <td>852.000000</td>\n",
              "      <td>852.000000</td>\n",
              "      <td>8.520000e+02</td>\n",
              "    </tr>\n",
              "    <tr>\n",
              "      <th>mean</th>\n",
              "      <td>213.500000</td>\n",
              "      <td>17.673709</td>\n",
              "      <td>5194.854460</td>\n",
              "      <td>1056.084854</td>\n",
              "      <td>4.427230</td>\n",
              "      <td>25.152278</td>\n",
              "      <td>121.716734</td>\n",
              "      <td>38.881925</td>\n",
              "      <td>2.199269e+13</td>\n",
              "    </tr>\n",
              "    <tr>\n",
              "      <th>std</th>\n",
              "      <td>123.047501</td>\n",
              "      <td>11.285691</td>\n",
              "      <td>206.709029</td>\n",
              "      <td>1254.121736</td>\n",
              "      <td>3.503983</td>\n",
              "      <td>1.223147</td>\n",
              "      <td>1.223826</td>\n",
              "      <td>14.454053</td>\n",
              "      <td>2.316944e+13</td>\n",
              "    </tr>\n",
              "    <tr>\n",
              "      <th>min</th>\n",
              "      <td>1.000000</td>\n",
              "      <td>0.000000</td>\n",
              "      <td>3214.000000</td>\n",
              "      <td>23.382840</td>\n",
              "      <td>0.000000</td>\n",
              "      <td>24.932070</td>\n",
              "      <td>121.473530</td>\n",
              "      <td>7.600000</td>\n",
              "      <td>0.000000e+00</td>\n",
              "    </tr>\n",
              "    <tr>\n",
              "      <th>25%</th>\n",
              "      <td>107.000000</td>\n",
              "      <td>9.100000</td>\n",
              "      <td>5101.000000</td>\n",
              "      <td>279.172600</td>\n",
              "      <td>1.000000</td>\n",
              "      <td>24.963050</td>\n",
              "      <td>121.529790</td>\n",
              "      <td>28.100000</td>\n",
              "      <td>3.290000e+12</td>\n",
              "    </tr>\n",
              "    <tr>\n",
              "      <th>50%</th>\n",
              "      <td>213.500000</td>\n",
              "      <td>16.050000</td>\n",
              "      <td>5207.500000</td>\n",
              "      <td>491.287950</td>\n",
              "      <td>4.500000</td>\n",
              "      <td>24.971990</td>\n",
              "      <td>121.539130</td>\n",
              "      <td>39.200000</td>\n",
              "      <td>1.645000e+13</td>\n",
              "    </tr>\n",
              "    <tr>\n",
              "      <th>75%</th>\n",
              "      <td>320.000000</td>\n",
              "      <td>27.600000</td>\n",
              "      <td>5314.000000</td>\n",
              "      <td>1438.579000</td>\n",
              "      <td>7.000000</td>\n",
              "      <td>24.978860</td>\n",
              "      <td>121.543480</td>\n",
              "      <td>47.300000</td>\n",
              "      <td>3.220000e+13</td>\n",
              "    </tr>\n",
              "    <tr>\n",
              "      <th>max</th>\n",
              "      <td>426.000000</td>\n",
              "      <td>43.800000</td>\n",
              "      <td>5420.000000</td>\n",
              "      <td>6488.021000</td>\n",
              "      <td>21.000000</td>\n",
              "      <td>36.974330</td>\n",
              "      <td>133.543100</td>\n",
              "      <td>117.500000</td>\n",
              "      <td>1.270000e+14</td>\n",
              "    </tr>\n",
              "  </tbody>\n",
              "</table>\n",
              "</div>\n",
              "    <div class=\"colab-df-buttons\">\n",
              "\n",
              "  <div class=\"colab-df-container\">\n",
              "    <button class=\"colab-df-convert\" onclick=\"convertToInteractive('df-f4ed143a-2384-4673-978d-1e6f1c40d871')\"\n",
              "            title=\"Convert this dataframe to an interactive table.\"\n",
              "            style=\"display:none;\">\n",
              "\n",
              "  <svg xmlns=\"http://www.w3.org/2000/svg\" height=\"24px\" viewBox=\"0 -960 960 960\">\n",
              "    <path d=\"M120-120v-720h720v720H120Zm60-500h600v-160H180v160Zm220 220h160v-160H400v160Zm0 220h160v-160H400v160ZM180-400h160v-160H180v160Zm440 0h160v-160H620v160ZM180-180h160v-160H180v160Zm440 0h160v-160H620v160Z\"/>\n",
              "  </svg>\n",
              "    </button>\n",
              "\n",
              "  <style>\n",
              "    .colab-df-container {\n",
              "      display:flex;\n",
              "      gap: 12px;\n",
              "    }\n",
              "\n",
              "    .colab-df-convert {\n",
              "      background-color: #E8F0FE;\n",
              "      border: none;\n",
              "      border-radius: 50%;\n",
              "      cursor: pointer;\n",
              "      display: none;\n",
              "      fill: #1967D2;\n",
              "      height: 32px;\n",
              "      padding: 0 0 0 0;\n",
              "      width: 32px;\n",
              "    }\n",
              "\n",
              "    .colab-df-convert:hover {\n",
              "      background-color: #E2EBFA;\n",
              "      box-shadow: 0px 1px 2px rgba(60, 64, 67, 0.3), 0px 1px 3px 1px rgba(60, 64, 67, 0.15);\n",
              "      fill: #174EA6;\n",
              "    }\n",
              "\n",
              "    .colab-df-buttons div {\n",
              "      margin-bottom: 4px;\n",
              "    }\n",
              "\n",
              "    [theme=dark] .colab-df-convert {\n",
              "      background-color: #3B4455;\n",
              "      fill: #D2E3FC;\n",
              "    }\n",
              "\n",
              "    [theme=dark] .colab-df-convert:hover {\n",
              "      background-color: #434B5C;\n",
              "      box-shadow: 0px 1px 3px 1px rgba(0, 0, 0, 0.15);\n",
              "      filter: drop-shadow(0px 1px 2px rgba(0, 0, 0, 0.3));\n",
              "      fill: #FFFFFF;\n",
              "    }\n",
              "  </style>\n",
              "\n",
              "    <script>\n",
              "      const buttonEl =\n",
              "        document.querySelector('#df-f4ed143a-2384-4673-978d-1e6f1c40d871 button.colab-df-convert');\n",
              "      buttonEl.style.display =\n",
              "        google.colab.kernel.accessAllowed ? 'block' : 'none';\n",
              "\n",
              "      async function convertToInteractive(key) {\n",
              "        const element = document.querySelector('#df-f4ed143a-2384-4673-978d-1e6f1c40d871');\n",
              "        const dataTable =\n",
              "          await google.colab.kernel.invokeFunction('convertToInteractive',\n",
              "                                                    [key], {});\n",
              "        if (!dataTable) return;\n",
              "\n",
              "        const docLinkHtml = 'Like what you see? Visit the ' +\n",
              "          '<a target=\"_blank\" href=https://colab.research.google.com/notebooks/data_table.ipynb>data table notebook</a>'\n",
              "          + ' to learn more about interactive tables.';\n",
              "        element.innerHTML = '';\n",
              "        dataTable['output_type'] = 'display_data';\n",
              "        await google.colab.output.renderOutput(dataTable, element);\n",
              "        const docLink = document.createElement('div');\n",
              "        docLink.innerHTML = docLinkHtml;\n",
              "        element.appendChild(docLink);\n",
              "      }\n",
              "    </script>\n",
              "  </div>\n",
              "\n",
              "\n",
              "<div id=\"df-231a598a-b709-4eff-b60f-73935bb75b6f\">\n",
              "  <button class=\"colab-df-quickchart\" onclick=\"quickchart('df-231a598a-b709-4eff-b60f-73935bb75b6f')\"\n",
              "            title=\"Suggest charts\"\n",
              "            style=\"display:none;\">\n",
              "\n",
              "<svg xmlns=\"http://www.w3.org/2000/svg\" height=\"24px\"viewBox=\"0 0 24 24\"\n",
              "     width=\"24px\">\n",
              "    <g>\n",
              "        <path d=\"M19 3H5c-1.1 0-2 .9-2 2v14c0 1.1.9 2 2 2h14c1.1 0 2-.9 2-2V5c0-1.1-.9-2-2-2zM9 17H7v-7h2v7zm4 0h-2V7h2v10zm4 0h-2v-4h2v4z\"/>\n",
              "    </g>\n",
              "</svg>\n",
              "  </button>\n",
              "\n",
              "<style>\n",
              "  .colab-df-quickchart {\n",
              "      --bg-color: #E8F0FE;\n",
              "      --fill-color: #1967D2;\n",
              "      --hover-bg-color: #E2EBFA;\n",
              "      --hover-fill-color: #174EA6;\n",
              "      --disabled-fill-color: #AAA;\n",
              "      --disabled-bg-color: #DDD;\n",
              "  }\n",
              "\n",
              "  [theme=dark] .colab-df-quickchart {\n",
              "      --bg-color: #3B4455;\n",
              "      --fill-color: #D2E3FC;\n",
              "      --hover-bg-color: #434B5C;\n",
              "      --hover-fill-color: #FFFFFF;\n",
              "      --disabled-bg-color: #3B4455;\n",
              "      --disabled-fill-color: #666;\n",
              "  }\n",
              "\n",
              "  .colab-df-quickchart {\n",
              "    background-color: var(--bg-color);\n",
              "    border: none;\n",
              "    border-radius: 50%;\n",
              "    cursor: pointer;\n",
              "    display: none;\n",
              "    fill: var(--fill-color);\n",
              "    height: 32px;\n",
              "    padding: 0;\n",
              "    width: 32px;\n",
              "  }\n",
              "\n",
              "  .colab-df-quickchart:hover {\n",
              "    background-color: var(--hover-bg-color);\n",
              "    box-shadow: 0 1px 2px rgba(60, 64, 67, 0.3), 0 1px 3px 1px rgba(60, 64, 67, 0.15);\n",
              "    fill: var(--button-hover-fill-color);\n",
              "  }\n",
              "\n",
              "  .colab-df-quickchart-complete:disabled,\n",
              "  .colab-df-quickchart-complete:disabled:hover {\n",
              "    background-color: var(--disabled-bg-color);\n",
              "    fill: var(--disabled-fill-color);\n",
              "    box-shadow: none;\n",
              "  }\n",
              "\n",
              "  .colab-df-spinner {\n",
              "    border: 2px solid var(--fill-color);\n",
              "    border-color: transparent;\n",
              "    border-bottom-color: var(--fill-color);\n",
              "    animation:\n",
              "      spin 1s steps(1) infinite;\n",
              "  }\n",
              "\n",
              "  @keyframes spin {\n",
              "    0% {\n",
              "      border-color: transparent;\n",
              "      border-bottom-color: var(--fill-color);\n",
              "      border-left-color: var(--fill-color);\n",
              "    }\n",
              "    20% {\n",
              "      border-color: transparent;\n",
              "      border-left-color: var(--fill-color);\n",
              "      border-top-color: var(--fill-color);\n",
              "    }\n",
              "    30% {\n",
              "      border-color: transparent;\n",
              "      border-left-color: var(--fill-color);\n",
              "      border-top-color: var(--fill-color);\n",
              "      border-right-color: var(--fill-color);\n",
              "    }\n",
              "    40% {\n",
              "      border-color: transparent;\n",
              "      border-right-color: var(--fill-color);\n",
              "      border-top-color: var(--fill-color);\n",
              "    }\n",
              "    60% {\n",
              "      border-color: transparent;\n",
              "      border-right-color: var(--fill-color);\n",
              "    }\n",
              "    80% {\n",
              "      border-color: transparent;\n",
              "      border-right-color: var(--fill-color);\n",
              "      border-bottom-color: var(--fill-color);\n",
              "    }\n",
              "    90% {\n",
              "      border-color: transparent;\n",
              "      border-bottom-color: var(--fill-color);\n",
              "    }\n",
              "  }\n",
              "</style>\n",
              "\n",
              "  <script>\n",
              "    async function quickchart(key) {\n",
              "      const quickchartButtonEl =\n",
              "        document.querySelector('#' + key + ' button');\n",
              "      quickchartButtonEl.disabled = true;  // To prevent multiple clicks.\n",
              "      quickchartButtonEl.classList.add('colab-df-spinner');\n",
              "      try {\n",
              "        const charts = await google.colab.kernel.invokeFunction(\n",
              "            'suggestCharts', [key], {});\n",
              "      } catch (error) {\n",
              "        console.error('Error during call to suggestCharts:', error);\n",
              "      }\n",
              "      quickchartButtonEl.classList.remove('colab-df-spinner');\n",
              "      quickchartButtonEl.classList.add('colab-df-quickchart-complete');\n",
              "    }\n",
              "    (() => {\n",
              "      let quickchartButtonEl =\n",
              "        document.querySelector('#df-231a598a-b709-4eff-b60f-73935bb75b6f button');\n",
              "      quickchartButtonEl.style.display =\n",
              "        google.colab.kernel.accessAllowed ? 'block' : 'none';\n",
              "    })();\n",
              "  </script>\n",
              "</div>\n",
              "\n",
              "    </div>\n",
              "  </div>\n"
            ],
            "text/plain": [
              "               No   house age     Sq feets  distand to public domin  \\\n",
              "count  852.000000  852.000000   852.000000               852.000000   \n",
              "mean   213.500000   17.673709  5194.854460              1056.084854   \n",
              "std    123.047501   11.285691   206.709029              1254.121736   \n",
              "min      1.000000    0.000000  3214.000000                23.382840   \n",
              "25%    107.000000    9.100000  5101.000000               279.172600   \n",
              "50%    213.500000   16.050000  5207.500000               491.287950   \n",
              "75%    320.000000   27.600000  5314.000000              1438.579000   \n",
              "max    426.000000   43.800000  5420.000000              6488.021000   \n",
              "\n",
              "       number of registrations done    latitude   longitude  \\\n",
              "count                    852.000000  852.000000  852.000000   \n",
              "mean                       4.427230   25.152278  121.716734   \n",
              "std                        3.503983    1.223147    1.223826   \n",
              "min                        0.000000   24.932070  121.473530   \n",
              "25%                        1.000000   24.963050  121.529790   \n",
              "50%                        4.500000   24.971990  121.539130   \n",
              "75%                        7.000000   24.978860  121.543480   \n",
              "max                       21.000000   36.974330  133.543100   \n",
              "\n",
              "       Y house price of unit area    totsl cost  \n",
              "count                  852.000000  8.520000e+02  \n",
              "mean                    38.881925  2.199269e+13  \n",
              "std                     14.454053  2.316944e+13  \n",
              "min                      7.600000  0.000000e+00  \n",
              "25%                     28.100000  3.290000e+12  \n",
              "50%                     39.200000  1.645000e+13  \n",
              "75%                     47.300000  3.220000e+13  \n",
              "max                    117.500000  1.270000e+14  "
            ]
          },
          "execution_count": 7,
          "metadata": {},
          "output_type": "execute_result"
        }
      ],
      "source": [
        "df.describe()"
      ]
    },
    {
      "cell_type": "code",
      "execution_count": null,
      "metadata": {
        "colab": {
          "base_uri": "https://localhost:8080/"
        },
        "id": "dBjoNiGBrDcT",
        "outputId": "7e9d6cf4-f9c7-4b90-ba34-06d6e32cc17f"
      },
      "outputs": [
        {
          "data": {
            "text/plain": [
              "Index(['No', 'date', ' house age', 'Sq feets', 'distand to public domin',\n",
              "       'number of registrations done', 'latitude', 'longitude',\n",
              "       'Y house price of unit area', 'totsl cost'],\n",
              "      dtype='object')"
            ]
          },
          "execution_count": 8,
          "metadata": {},
          "output_type": "execute_result"
        }
      ],
      "source": [
        "df.columns"
      ]
    },
    {
      "cell_type": "code",
      "execution_count": null,
      "metadata": {
        "colab": {
          "base_uri": "https://localhost:8080/"
        },
        "id": "qSvvdpzmrN_j",
        "outputId": "d4ceb083-d386-4d01-d0ec-4cbbd25dc659"
      },
      "outputs": [
        {
          "data": {
            "text/plain": [
              "(852, 10)"
            ]
          },
          "execution_count": 9,
          "metadata": {},
          "output_type": "execute_result"
        }
      ],
      "source": [
        "df.shape"
      ]
    },
    {
      "cell_type": "code",
      "execution_count": null,
      "metadata": {
        "colab": {
          "base_uri": "https://localhost:8080/"
        },
        "id": "xyEp3oZ3rUCK",
        "outputId": "519af0f3-a54d-4967-888a-ba4fe74f467a"
      },
      "outputs": [
        {
          "data": {
            "text/plain": [
              "No                              0\n",
              "date                            0\n",
              " house age                      0\n",
              "Sq feets                        0\n",
              "distand to public domin         0\n",
              "number of registrations done    0\n",
              "latitude                        0\n",
              "longitude                       0\n",
              "Y house price of unit area      0\n",
              "totsl cost                      0\n",
              "dtype: int64"
            ]
          },
          "execution_count": 10,
          "metadata": {},
          "output_type": "execute_result"
        }
      ],
      "source": [
        "df.isnull().sum()"
      ]
    },
    {
      "cell_type": "code",
      "execution_count": null,
      "metadata": {
        "colab": {
          "base_uri": "https://localhost:8080/"
        },
        "id": "0TjCZZTUrVwq",
        "outputId": "8db30d94-bfc2-4808-897c-5a6b0d9283fd"
      },
      "outputs": [
        {
          "data": {
            "text/plain": [
              "No                                int64\n",
              "date                             object\n",
              " house age                      float64\n",
              "Sq feets                          int64\n",
              "distand to public domin         float64\n",
              "number of registrations done      int64\n",
              "latitude                        float64\n",
              "longitude                       float64\n",
              "Y house price of unit area      float64\n",
              "totsl cost                      float64\n",
              "dtype: object"
            ]
          },
          "execution_count": 11,
          "metadata": {},
          "output_type": "execute_result"
        }
      ],
      "source": [
        "df.dtypes"
      ]
    },
    {
      "cell_type": "code",
      "execution_count": null,
      "metadata": {
        "id": "OCXPWDpxraJQ"
      },
      "outputs": [],
      "source": [
        "df = df.loc[:,[\"Y house price of unit area\"]].values\n",
        "train = df[:len(df)-50]\n",
        "test = df[len(train):]\n",
        "# reshape\n",
        "train = train.reshape(train.shape[0],1)"
      ]
    },
    {
      "cell_type": "code",
      "execution_count": null,
      "metadata": {
        "colab": {
          "base_uri": "https://localhost:8080/"
        },
        "id": "Kx5HL4CVrsMZ",
        "outputId": "db766bb5-8fc3-4ebf-c3da-3c7d8ae7f00b"
      },
      "outputs": [
        {
          "data": {
            "text/plain": [
              "(802, 1)"
            ]
          },
          "execution_count": 13,
          "metadata": {},
          "output_type": "execute_result"
        }
      ],
      "source": [
        "train.shape"
      ]
    },
    {
      "cell_type": "code",
      "execution_count": null,
      "metadata": {
        "colab": {
          "base_uri": "https://localhost:8080/",
          "height": 452
        },
        "id": "gd3MJXeprvY4",
        "outputId": "0538d656-da82-417e-b4fc-397372075a80"
      },
      "outputs": [
        {
          "data": {
            "image/png": "[encoded data removed]",
            "text/plain": [
              "<Figure size 640x480 with 1 Axes>"
            ]
          },
          "metadata": {},
          "output_type": "display_data"
        }
      ],
      "source": [
        "plt.plot(train);\n",
        "plt.title(\"Closing prices for the data\");"
      ]
    },
    {
      "cell_type": "code",
      "execution_count": null,
      "metadata": {
        "colab": {
          "base_uri": "https://localhost:8080/",
          "height": 430
        },
        "id": "7pAoPiFhr5e_",
        "outputId": "d3c7c91a-8a29-4da8-83a3-b13d9a195ba9"
      },
      "outputs": [
        {
          "data": {
            "image/png": "[encoded data removed]",
            "text/plain": [
              "<Figure size 640x480 with 1 Axes>"
            ]
          },
          "metadata": {},
          "output_type": "display_data"
        }
      ],
      "source": [
        "from sklearn.preprocessing import MinMaxScaler\n",
        "scaler = MinMaxScaler(feature_range= (0,1)) # defining of Scaler\n",
        "train_scaled = scaler.fit_transform(train) # applying to Scaler to train\n",
        "\n",
        "plt.plot(train_scaled)\n",
        "plt.show()"
      ]
    },
    {
      "cell_type": "code",
      "execution_count": null,
      "metadata": {
        "id": "oC9r6ueXr9pR"
      },
      "outputs": [],
      "source": [
        "# We add first 50 location to \"X_train\" and we 51. location to \"y_train\" .\n",
        "X_train = []\n",
        "y_train = []\n",
        "timesteps = 289\n",
        "\n",
        "for i in range(timesteps, train_scaled.shape[0]):\n",
        "    X_train.append(train_scaled[i-timesteps:i,0])\n",
        "    y_train.append(train_scaled[i,0])\n",
        "\n",
        "X_train, y_train = np.array(X_train), np.array(y_train)\n",
        "\n",
        "\n",
        "# Reshaping\n",
        "X_train = X_train.reshape(X_train.shape[0], X_train.shape[1], 1)  # Dimension of array is 3."
      ]
    },
    {
      "cell_type": "code",
      "execution_count": null,
      "metadata": {
        "colab": {
          "base_uri": "https://localhost:8080/"
        },
        "id": "4S-VpexEsZNK",
        "outputId": "a0d31f06-3ca7-4bac-84c3-c9480a79e97b"
      },
      "outputs": [
        {
          "name": "stdout",
          "output_type": "stream",
          "text": [
            "17/17 [==============================] - 6s 151ms/step - loss: 0.4885\n"
          ]
        },
        {
          "data": {
            "text/plain": [
              "<keras.src.callbacks.History at 0x7cfdcc0aaf20>"
            ]
          },
          "execution_count": 17,
          "metadata": {},
          "output_type": "execute_result"
        }
      ],
      "source": [
        "\n",
        "from keras.models import Sequential\n",
        "from keras.layers import Dense\n",
        "from keras.layers import SimpleRNN\n",
        "from keras.layers import Dropout # it block to overfitting\n",
        "\n",
        "# Initialising the RCNN\n",
        "regressor = Sequential()\n",
        "\n",
        "# Adding the first RCNN layer and some Dropout regularisation\n",
        "regressor.add(SimpleRNN(units = 50,activation='tanh', return_sequences = True, input_shape = (X_train.shape[1], 1)))\n",
        "regressor.add(Dropout(0.2))\n",
        "\n",
        "# Adding a second RCNN layer and some Dropout regularisation.\n",
        "regressor.add(SimpleRNN(units = 50,activation='tanh', return_sequences = True))\n",
        "regressor.add(Dropout(0.2))\n",
        "\n",
        "# Adding a third RCNN layer and some Dropout regularisation.\n",
        "regressor.add(SimpleRNN(units = 50,activation='tanh', return_sequences = True))\n",
        "regressor.add(Dropout(0.2))\n",
        "\n",
        "# Adding a fourth RCNN layer and some Dropout regularisation.\n",
        "regressor.add(SimpleRNN(units = 50))\n",
        "regressor.add(Dropout(0.2))\n",
        "\n",
        "\n",
        "# Adding the output layer\n",
        "regressor.add(Dense(units = 1))\n",
        "\n",
        "# Compiling the RCNN\n",
        "regressor.compile(optimizer = 'adam', loss = 'mean_squared_error')\n",
        "\n",
        "# Fitting the RCNN to the Training set\n",
        "regressor.fit(X_train, y_train, epochs = 1, batch_size = 32)"
      ]
    },
    {
      "cell_type": "code",
      "execution_count": null,
      "metadata": {
        "id": "XaR_FEJYtFt2"
      },
      "outputs": [],
      "source": [
        "inputs = df[len(df) - len(test) - timesteps:]\n",
        "inputs = scaler.transform(inputs)"
      ]
    },
    {
      "cell_type": "code",
      "execution_count": null,
      "metadata": {
        "id": "_vPRVz9Bt8El"
      },
      "outputs": [],
      "source": [
        "X_test = []\n",
        "for i in range(timesteps, inputs.shape[0]):\n",
        "    X_test.append(inputs[i-timesteps:i, 0]) # 0 dan 50 ye, 1 den 51 e gibi kaydirarark 50 eleman aliyoruz\n",
        "X_test = np.array(X_test)\n",
        "X_test = X_test.reshape(X_test.shape[0], X_test.shape[1], 1)"
      ]
    },
    {
      "cell_type": "code",
      "execution_count": null,
      "metadata": {
        "colab": {
          "base_uri": "https://localhost:8080/"
        },
        "id": "DBfmagY7vFMv",
        "outputId": "7bd07dc5-37f2-43c9-a39e-8d45bd1a40ff"
      },
      "outputs": [
        {
          "name": "stdout",
          "output_type": "stream",
          "text": [
            "2/2 [==============================] - 0s 33ms/step\n"
          ]
        }
      ],
      "source": [
        "predicted_data = regressor.predict(X_test)\n",
        "predicted_data = scaler.inverse_transform(predicted_data)"
      ]
    },
    {
      "cell_type": "code",
      "execution_count": null,
      "metadata": {
        "colab": {
          "base_uri": "https://localhost:8080/"
        },
        "id": "8jEA-jWyvHdl",
        "outputId": "e9724ec9-ba64-4acc-f999-1c33a95567ac"
      },
      "outputs": [
        {
          "name": "stdout",
          "output_type": "stream",
          "text": [
            "2/2 [==============================] - 0s 31ms/step\n"
          ]
        }
      ],
      "source": [
        "predicted_data = regressor.predict(X_test)\n",
        "predicted_data = scaler.inverse_transform(predicted_data)"
      ]
    },
    {
      "cell_type": "code",
      "execution_count": null,
      "metadata": {
        "colab": {
          "base_uri": "https://localhost:8080/",
          "height": 775
        },
        "id": "kLToZ1dkvMxG",
        "outputId": "29a949df-ab5a-47f0-f895-cca7b33245ba"
      },
      "outputs": [
        {
          "data": {
            "image/png": "[encoded data removed]",
            "text/plain": [
              "<Figure size 640x320 with 1 Axes>"
            ]
          },
          "metadata": {},
          "output_type": "display_data"
        },
        {
          "name": "stderr",
          "output_type": "stream",
          "text": [
            "<ipython-input-23-0138f639e10a>:12: DeprecationWarning: Conversion of an array with ndim > 0 to a scalar is deprecated, and will error in future. Ensure you extract a single element from your array before performing this operation. (Deprecated NumPy 1.25.)\n",
            "  table_data.append([day, int(real_val), int(pred_val)])  # Convert to integers\n"
          ]
        },
        {
          "data": {
            "image/png": "[encoded data removed]",
            "text/plain": [
              "<Figure size 800x400 with 1 Axes>"
            ]
          },
          "metadata": {},
          "output_type": "display_data"
        }
      ],
      "source": [
        "plt.figure(figsize=(8,4), dpi=80, facecolor='w', edgecolor='k')\n",
        "plt.plot(test,color=\"orange\",label=\"Real value\")\n",
        "plt.plot(predicted_data,color=\"r\",label=\"RNN predicted result\")\n",
        "plt.legend()\n",
        "plt.xlabel(\"Days\")\n",
        "plt.ylabel(\"Values\")\n",
        "plt.grid(True)\n",
        "plt.show()\n",
        "\n",
        "table_data = [['Day', 'Real Value per sq feet', 'Predicted Value per sq feet']]\n",
        "for day, real_val, pred_val in zip(range(1, 21), test[:20], predicted_data[:20]):\n",
        "    table_data.append([day, int(real_val), int(pred_val)])  # Convert to integers\n",
        "\n",
        "fig, ax = plt.subplots(figsize=(8, 4))\n",
        "ax.axis('off')  # Turn off axis since we are only showing the table\n",
        "table = ax.table(cellText=table_data, loc='center', cellLoc='center', colWidths=[1, 1, 1])\n",
        "\n",
        "# Adjust table style\n",
        "table.auto_set_font_size(False)\n",
        "table.set_fontsize(10)\n",
        "table.scale(1, 1.5)  # Adjust scaling as needed"
      ]
    },
    {
      "cell_type": "code",
      "execution_count": null,
      "metadata": {
        "id": "MwFPv4MZlbbl"
      },
      "outputs": [],
      "source": []
    },
    {
      "cell_type": "code",
      "execution_count": null,
      "metadata": {
        "id": "bKOyGWTVvaE0"
      },
      "outputs": [],
      "source": []
    }
  ],
  "metadata": {
    "colab": {
      "provenance": []
    },
    "kernelspec": {
      "display_name": "Python 3",
      "name": "python3"
    },
    "language_info": {
      "name": "python"
    }
  },
  "nbformat": 4,
  "nbformat_minor": 0
}